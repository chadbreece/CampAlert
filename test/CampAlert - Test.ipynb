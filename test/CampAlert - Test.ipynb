{
 "cells": [
  {
   "cell_type": "markdown",
   "id": "78e60e17",
   "metadata": {},
   "source": [
    "# User to Query"
   ]
  },
  {
   "cell_type": "code",
   "execution_count": 13,
   "id": "d1bdf0d4-5123-4486-b110-375f95f22524",
   "metadata": {},
   "outputs": [],
   "source": [
    "import pandas as pd\n"
   ]
  },
  {
   "cell_type": "code",
   "execution_count": 14,
   "id": "2d00906f",
   "metadata": {},
   "outputs": [
    {
     "data": {
      "text/html": [
       "<div>\n",
       "<style scoped>\n",
       "    .dataframe tbody tr th:only-of-type {\n",
       "        vertical-align: middle;\n",
       "    }\n",
       "\n",
       "    .dataframe tbody tr th {\n",
       "        vertical-align: top;\n",
       "    }\n",
       "\n",
       "    .dataframe thead th {\n",
       "        text-align: right;\n",
       "    }\n",
       "</style>\n",
       "<table border=\"1\" class=\"dataframe\">\n",
       "  <thead>\n",
       "    <tr style=\"text-align: right;\">\n",
       "      <th></th>\n",
       "      <th>Date of Query</th>\n",
       "      <th>Name</th>\n",
       "      <th>Rec Area</th>\n",
       "      <th>Weeks in Advance</th>\n",
       "      <th>Number of Nights</th>\n",
       "      <th>Weekends Only</th>\n",
       "      <th>Email</th>\n",
       "    </tr>\n",
       "  </thead>\n",
       "  <tbody>\n",
       "    <tr>\n",
       "      <th>0</th>\n",
       "      <td>11/30/2024</td>\n",
       "      <td>Chad Breece</td>\n",
       "      <td>Yosemite National Park</td>\n",
       "      <td>3</td>\n",
       "      <td>1</td>\n",
       "      <td>0</td>\n",
       "      <td>cmebreece@gmail.com</td>\n",
       "    </tr>\n",
       "    <tr>\n",
       "      <th>1</th>\n",
       "      <td>11/30/2024</td>\n",
       "      <td>Chad Breece</td>\n",
       "      <td>Joshua Tree National Park</td>\n",
       "      <td>3</td>\n",
       "      <td>1</td>\n",
       "      <td>0</td>\n",
       "      <td>cmebreece@gmail.com</td>\n",
       "    </tr>\n",
       "  </tbody>\n",
       "</table>\n",
       "</div>"
      ],
      "text/plain": [
       "  Date of Query         Name                   Rec Area  Weeks in Advance  \\\n",
       "0    11/30/2024  Chad Breece     Yosemite National Park                 3   \n",
       "1    11/30/2024  Chad Breece  Joshua Tree National Park                 3   \n",
       "\n",
       "   Number of Nights  Weekends Only                Email  \n",
       "0                 1              0  cmebreece@gmail.com  \n",
       "1                 1              0  cmebreece@gmail.com  "
      ]
     },
     "execution_count": 14,
     "metadata": {},
     "output_type": "execute_result"
    }
   ],
   "source": [
    "user_df = pd.read_csv('../CampsiteInfo - Sheet1.csv')\n",
    "user_df.head()\n"
   ]
  },
  {
   "cell_type": "code",
   "execution_count": 15,
   "id": "af310cb5",
   "metadata": {},
   "outputs": [
    {
     "data": {
      "text/plain": [
       "array(['Chad Breece'], dtype=object)"
      ]
     },
     "execution_count": 15,
     "metadata": {},
     "output_type": "execute_result"
    }
   ],
   "source": [
    "uniq_users = user_df['Name'].unique()\n",
    "uniq_users\n"
   ]
  },
  {
   "cell_type": "code",
   "execution_count": 21,
   "id": "46857481",
   "metadata": {},
   "outputs": [
    {
     "data": {
      "text/html": [
       "<div>\n",
       "<style scoped>\n",
       "    .dataframe tbody tr th:only-of-type {\n",
       "        vertical-align: middle;\n",
       "    }\n",
       "\n",
       "    .dataframe tbody tr th {\n",
       "        vertical-align: top;\n",
       "    }\n",
       "\n",
       "    .dataframe thead th {\n",
       "        text-align: right;\n",
       "    }\n",
       "</style>\n",
       "<table border=\"1\" class=\"dataframe\">\n",
       "  <thead>\n",
       "    <tr style=\"text-align: right;\">\n",
       "      <th></th>\n",
       "      <th>RecAreaID</th>\n",
       "      <th>RecAreaName</th>\n",
       "    </tr>\n",
       "  </thead>\n",
       "  <tbody>\n",
       "    <tr>\n",
       "      <th>0</th>\n",
       "      <td>4</td>\n",
       "      <td>WestWorld</td>\n",
       "    </tr>\n",
       "    <tr>\n",
       "      <th>1</th>\n",
       "      <td>6</td>\n",
       "      <td>Lake Pleasant</td>\n",
       "    </tr>\n",
       "    <tr>\n",
       "      <th>2</th>\n",
       "      <td>9</td>\n",
       "      <td>Shadow Mountain Lake</td>\n",
       "    </tr>\n",
       "    <tr>\n",
       "      <th>3</th>\n",
       "      <td>10</td>\n",
       "      <td>White Mountains National Recreation Area</td>\n",
       "    </tr>\n",
       "    <tr>\n",
       "      <th>4</th>\n",
       "      <td>11</td>\n",
       "      <td>Folsom Lake</td>\n",
       "    </tr>\n",
       "  </tbody>\n",
       "</table>\n",
       "</div>"
      ],
      "text/plain": [
       "   RecAreaID                               RecAreaName\n",
       "0          4                                 WestWorld\n",
       "1          6                             Lake Pleasant\n",
       "2          9                      Shadow Mountain Lake\n",
       "3         10  White Mountains National Recreation Area\n",
       "4         11                               Folsom Lake"
      ]
     },
     "execution_count": 21,
     "metadata": {},
     "output_type": "execute_result"
    }
   ],
   "source": [
    "rec_df = pd.read_csv('rec_area_names.csv')\n",
    "rec_df.head()"
   ]
  },
  {
   "cell_type": "code",
   "execution_count": 24,
   "id": "ba6b4305",
   "metadata": {},
   "outputs": [
    {
     "name": "stdout",
     "output_type": "stream",
     "text": [
      "['Chad Breece'] [[2991, 2782]]\n",
      "Chad Breece [2991, 2782]\n"
     ]
    }
   ],
   "source": [
    "uniq_recs = []\n",
    "for user in uniq_users:\n",
    "    user_recs = user_df[user_df['Name'] == user]['Rec Area'].unique()\n",
    "    uniq_recs.append([int(rec_df[rec_df['RecAreaName'] == rec]['RecAreaID'].values[0]) for rec in user_recs])\n",
    "print(uniq_users, uniq_recs)\n",
    "print(uniq_users[0], uniq_recs[0])\n"
   ]
  },
  {
   "cell_type": "code",
   "execution_count": 29,
   "id": "61249be9",
   "metadata": {},
   "outputs": [],
   "source": [
    "from datetime import datetime\n",
    "import logging\n",
    "from typing import List\n",
    "import pandas as pd\n",
    "from datetime import datetime\n",
    "\n",
    "from camply.containers import AvailableCampsite, SearchWindow\n",
    "from camply.search import SearchRecreationDotGov"
   ]
  },
  {
   "cell_type": "code",
   "execution_count": 26,
   "id": "3c349442",
   "metadata": {},
   "outputs": [
    {
     "name": "stdout",
     "output_type": "stream",
     "text": [
      "   RecAreaID                               RecAreaName\n",
      "0          4                                 WestWorld\n",
      "1          6                             Lake Pleasant\n",
      "2          9                      Shadow Mountain Lake\n",
      "3         10  White Mountains National Recreation Area\n",
      "4         11                               Folsom Lake\n"
     ]
    }
   ],
   "source": [
    "AreaCSV = pd.read_csv('../rec_area_names.csv')\n",
    "print(AreaCSV.head())"
   ]
  },
  {
   "cell_type": "code",
   "execution_count": 28,
   "id": "cb48ce7e",
   "metadata": {},
   "outputs": [
    {
     "name": "stdout",
     "output_type": "stream",
     "text": [
      "  Date of Query         Name                   Rec Area  Weeks in Advance  \\\n",
      "0    11/30/2024  Chad Breece     Yosemite National Park                 3   \n",
      "1    11/30/2024  Chad Breece  Joshua Tree National Park                 3   \n",
      "\n",
      "   Number of Nights  Weekends Only                Email  \n",
      "0                 1              0  cmebreece@gmail.com  \n",
      "1                 1              0  cmebreece@gmail.com  \n"
     ]
    }
   ],
   "source": [
    "user_df = pd.read_csv('../CampsiteInfo - Sheet1.csv')\n",
    "print(user_df.head())"
   ]
  },
  {
   "cell_type": "code",
   "execution_count": null,
   "id": "3dcd87f2",
   "metadata": {},
   "outputs": [],
   "source": [
    "\n",
    "uniq_users = user_df['Name'].unique()\n",
    "for user in uniq_users:\n",
    "    uniq_recs = user_df[user_df['Name'] == user]['Rec Area'].unique()\n",
    "    \n",
    "    #get number of weeks of advanced notice\n",
    "    adv_notice_weeks = user_df[user_df['Name'] == user]['Weeks in Advance'].unique()\n",
    "    #calculate end date\n",
    "    adv_notice_days = adv_notice_weeks * 7\n",
    "    u = datetime.datetime.strptime(\"2011-01-01\",\"%Y-%m-%d\")\n",
    "    d = datetime.timedelta(days=adv_notice_days)\n",
    "    start = u\n",
    "    end = u + d\n",
    "    date_range = SearchWindow(start_date = start, end_date = end)\n",
    "    weekend_only_bool = user_df[user_df['Name'] == user]['Weekends Only'].unique()\n",
    "    num_nights = user_df[user_df['Name'] == user]['Number of Nights'].unique()\n",
    "    \n",
    "    #Need a seperate thread for each user\n",
    "    camping_finder = SearchRecreationDotGov(search_window=date_range,\n",
    "                                            recreation_area=2782,  # Glacier Ntl Park\n",
    "                                            weekends_only=weekend_only_bool[0],\n",
    "                                            nights=num_nights[0],\n",
    "                                            )\n",
    "    \n",
    "    matches: List[AvailableCampsite] = camping_finder.get_matching_campsites(log=True, verbose=True,\n",
    "                                      continuous=True,\n",
    "                                      polling_interval=5,\n",
    "                                      search_forever=True,\n",
    "                                      notify_first_try=False)\n",
    "    \n",
    "print(datetime.today())\n",
    "    \n",
    "print(user, uniq_recs)"
   ]
  }
 ],
 "metadata": {
  "kernelspec": {
   "display_name": "Python 3 (ipykernel)",
   "language": "python",
   "name": "python3"
  },
  "language_info": {
   "codemirror_mode": {
    "name": "ipython",
    "version": 3
   },
   "file_extension": ".py",
   "mimetype": "text/x-python",
   "name": "python",
   "nbconvert_exporter": "python",
   "pygments_lexer": "ipython3",
   "version": "3.13.0"
  }
 },
 "nbformat": 4,
 "nbformat_minor": 5
}
