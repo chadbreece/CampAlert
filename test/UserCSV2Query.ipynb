{
 "cells": [
  {
   "cell_type": "code",
   "execution_count": 71,
   "metadata": {},
   "outputs": [],
   "source": [
    "from datetime import datetime\n",
    "import logging\n",
    "from typing import List\n",
    "import pandas as pd\n",
    "import datetime\n",
    "import os\n",
    "\n",
    "from camply.containers import AvailableCampsite, SearchWindow\n",
    "from camply.search import SearchRecreationDotGov, SearchReserveCalifornia\n",
    "from camply.config import EmailConfig"
   ]
  },
  {
   "cell_type": "code",
   "execution_count": 66,
   "metadata": {},
   "outputs": [
    {
     "name": "stdout",
     "output_type": "stream",
     "text": [
      "   RecAreaID                               RecAreaName\n",
      "0          4                                 WestWorld\n",
      "1          6                             Lake Pleasant\n",
      "2          9                      Shadow Mountain Lake\n",
      "3         10  White Mountains National Recreation Area\n",
      "4         11                               Folsom Lake\n"
     ]
    }
   ],
   "source": [
    "AreaCSV = pd.read_csv('../rec_area_names.csv')\n",
    "print(AreaCSV.head())"
   ]
  },
  {
   "cell_type": "code",
   "execution_count": 67,
   "metadata": {},
   "outputs": [
    {
     "name": "stdout",
     "output_type": "stream",
     "text": [
      "  Date of Query         Name                 Rec Area  Weeks in Advance  \\\n",
      "0    11/30/2024  Chad Breece   Yosemite National Park                 3   \n",
      "1    11/30/2024  Chad Breece  Pinnacles National Park                 3   \n",
      "\n",
      "   Number of Nights  Weekends Only                Email  \n",
      "0                 1              1  cmebreece@gmail.com  \n",
      "1                 1              1  cmebreece@gmail.com  \n"
     ]
    }
   ],
   "source": [
    "user_df = pd.read_csv('../CampsiteInfo - Sheet1.csv')\n",
    "print(user_df.head())"
   ]
  },
  {
   "cell_type": "code",
   "execution_count": 74,
   "metadata": {},
   "outputs": [
    {
     "name": "stdout",
     "output_type": "stream",
     "text": [
      "2024-12-01 2024-12-22\n"
     ]
    }
   ],
   "source": [
    "\n",
    "uniq_users = user_df['Name'].unique()\n",
    "for user in uniq_users:\n",
    "    ### NOTE: Need a seperate thread for each user\n",
    "    #get email address for user\n",
    "    to_email_address = user_df[user_df['Name'] == user]['Email'].unique()\n",
    "    #get rec area ids for user\n",
    "    user_recs = user_df[user_df['Name'] == user]['Rec Area'].unique()\n",
    "    uniq_recs = [int(AreaCSV[AreaCSV['RecAreaName'] == rec]['RecAreaID'].values[0]) for rec in user_recs]\n",
    "\n",
    "    #get number of weeks of advanced notice\n",
    "    adv_notice_weeks = int(user_df[user_df['Name'] == user]['Weeks in Advance'].unique()[0])\n",
    "    #calculate end date\n",
    "    adv_notice_days = adv_notice_weeks * 7\n",
    "    u = datetime.date.today()\n",
    "    d = datetime.timedelta(days=adv_notice_days)\n",
    "    start = u\n",
    "    end = u + d\n",
    "    print(start, end)\n",
    "    date_range = SearchWindow(start_date = start, end_date = end)\n",
    "    weekend_only_bool = bool(user_df[user_df['Name'] == user]['Weekends Only'].unique()[0])\n",
    "    num_nights = int(user_df[user_df['Name'] == user]['Number of Nights'].unique()[0])\n",
    "    \n",
    "    # Search for campsites for user\n",
    "    camping_finder = SearchRecreationDotGov(search_window=date_range,\n",
    "                                            recreation_area=uniq_recs,  # Glacier Ntl Park\n",
    "                                            weekends_only=weekend_only_bool,\n",
    "                                            nights=num_nights,\n",
    "                                            equipment=[(\"Tent\", None)],\n",
    "                                            )\n",
    "    # Get matching campsites\n",
    "    matches = camping_finder.get_matching_campsites(log=True, verbose=True,\n",
    "                            continuous=True,\n",
    "                            polling_interval=5,\n",
    "                            search_forever=False,\n",
    "                            notify_first_try=False,\n",
    "                            )\n"
   ]
  },
  {
   "cell_type": "code",
   "execution_count": 73,
   "metadata": {},
   "outputs": [
    {
     "data": {
      "text/plain": [
       "[AvailableCampsite(campsite_id=53855, booking_date=datetime.datetime(2024, 12, 20, 0, 0), booking_end_date=datetime.datetime(2024, 12, 21, 0, 0), booking_nights=1, campsite_site_name='Group Day Use #GG', campsite_loop_name=None, campsite_type='DailyUse', campsite_occupancy=(0, 1), campsite_use_type='Day Use', availability_status='Available', recreation_area='Angel Island SP', recreation_area_id=614, facility_name='East Group Garrison Picnic Area', facility_id=2149, booking_url='https://www.reservecalifornia.com/Web/Default.aspx#!park/614/2149', location=CampsiteLocation(latitude=37.8604, longitude=-122.4212), permitted_equipment=None, campsite_attributes=None),\n",
       " AvailableCampsite(campsite_id=39610, booking_date=datetime.datetime(2024, 12, 20, 0, 0), booking_end_date=datetime.datetime(2024, 12, 21, 0, 0), booking_nights=1, campsite_site_name='Campsite #9', campsite_loop_name=None, campsite_type='Camping', campsite_occupancy=(0, 1), campsite_use_type='Campsite', availability_status='Available', recreation_area='Angel Island SP', recreation_area_id=614, facility_name='Sunrise (sites 7-9)', facility_id=409, booking_url='https://www.reservecalifornia.com/Web/Default.aspx#!park/614/409', location=CampsiteLocation(latitude=37.861389, longitude=-122.425278), permitted_equipment=None, campsite_attributes=None),\n",
       " AvailableCampsite(campsite_id=32823, booking_date=datetime.datetime(2024, 12, 14, 0, 0), booking_end_date=datetime.datetime(2024, 12, 15, 0, 0), booking_nights=1, campsite_site_name='Group Dailyuse (A) #PLAT', campsite_loop_name=None, campsite_type='DailyUse', campsite_occupancy=(0, 1), campsite_use_type='Day Use', availability_status='Available', recreation_area='Angel Island SP', recreation_area_id=614, facility_name='Ayala Cove Group Picnic Area', facility_id=405, booking_url='https://www.reservecalifornia.com/Web/Default.aspx#!park/614/405', location=CampsiteLocation(latitude=37.8659, longitude=-122.4353), permitted_equipment=None, campsite_attributes=None),\n",
       " AvailableCampsite(campsite_id=32824, booking_date=datetime.datetime(2024, 12, 7, 0, 0), booking_end_date=datetime.datetime(2024, 12, 8, 0, 0), booking_nights=1, campsite_site_name='Group Dailyuse (C) #HILL', campsite_loop_name=None, campsite_type='DailyUse', campsite_occupancy=(0, 1), campsite_use_type='Day Use', availability_status='Available', recreation_area='Angel Island SP', recreation_area_id=614, facility_name='Ayala Cove Group Picnic Area', facility_id=405, booking_url='https://www.reservecalifornia.com/Web/Default.aspx#!park/614/405', location=CampsiteLocation(latitude=37.8659, longitude=-122.4353), permitted_equipment=None, campsite_attributes=None),\n",
       " AvailableCampsite(campsite_id=32822, booking_date=datetime.datetime(2024, 12, 13, 0, 0), booking_end_date=datetime.datetime(2024, 12, 14, 0, 0), booking_nights=1, campsite_site_name='Group Dailyuse (B) #D B', campsite_loop_name=None, campsite_type='DailyUse', campsite_occupancy=(0, 1), campsite_use_type='Day Use', availability_status='Available', recreation_area='Angel Island SP', recreation_area_id=614, facility_name='Ayala Cove Group Picnic Area', facility_id=405, booking_url='https://www.reservecalifornia.com/Web/Default.aspx#!park/614/405', location=CampsiteLocation(latitude=37.8659, longitude=-122.4353), permitted_equipment=None, campsite_attributes=None),\n",
       " AvailableCampsite(campsite_id=32823, booking_date=datetime.datetime(2024, 12, 7, 0, 0), booking_end_date=datetime.datetime(2024, 12, 8, 0, 0), booking_nights=1, campsite_site_name='Group Dailyuse (A) #PLAT', campsite_loop_name=None, campsite_type='DailyUse', campsite_occupancy=(0, 1), campsite_use_type='Day Use', availability_status='Available', recreation_area='Angel Island SP', recreation_area_id=614, facility_name='Ayala Cove Group Picnic Area', facility_id=405, booking_url='https://www.reservecalifornia.com/Web/Default.aspx#!park/614/405', location=CampsiteLocation(latitude=37.8659, longitude=-122.4353), permitted_equipment=None, campsite_attributes=None),\n",
       " AvailableCampsite(campsite_id=32822, booking_date=datetime.datetime(2024, 12, 14, 0, 0), booking_end_date=datetime.datetime(2024, 12, 15, 0, 0), booking_nights=1, campsite_site_name='Group Dailyuse (B) #D B', campsite_loop_name=None, campsite_type='DailyUse', campsite_occupancy=(0, 1), campsite_use_type='Day Use', availability_status='Available', recreation_area='Angel Island SP', recreation_area_id=614, facility_name='Ayala Cove Group Picnic Area', facility_id=405, booking_url='https://www.reservecalifornia.com/Web/Default.aspx#!park/614/405', location=CampsiteLocation(latitude=37.8659, longitude=-122.4353), permitted_equipment=None, campsite_attributes=None),\n",
       " AvailableCampsite(campsite_id=32824, booking_date=datetime.datetime(2024, 12, 6, 0, 0), booking_end_date=datetime.datetime(2024, 12, 7, 0, 0), booking_nights=1, campsite_site_name='Group Dailyuse (C) #HILL', campsite_loop_name=None, campsite_type='DailyUse', campsite_occupancy=(0, 1), campsite_use_type='Day Use', availability_status='Available', recreation_area='Angel Island SP', recreation_area_id=614, facility_name='Ayala Cove Group Picnic Area', facility_id=405, booking_url='https://www.reservecalifornia.com/Web/Default.aspx#!park/614/405', location=CampsiteLocation(latitude=37.8659, longitude=-122.4353), permitted_equipment=None, campsite_attributes=None),\n",
       " AvailableCampsite(campsite_id=53855, booking_date=datetime.datetime(2024, 12, 6, 0, 0), booking_end_date=datetime.datetime(2024, 12, 7, 0, 0), booking_nights=1, campsite_site_name='Group Day Use #GG', campsite_loop_name=None, campsite_type='DailyUse', campsite_occupancy=(0, 1), campsite_use_type='Day Use', availability_status='Available', recreation_area='Angel Island SP', recreation_area_id=614, facility_name='East Group Garrison Picnic Area', facility_id=2149, booking_url='https://www.reservecalifornia.com/Web/Default.aspx#!park/614/2149', location=CampsiteLocation(latitude=37.8604, longitude=-122.4212), permitted_equipment=None, campsite_attributes=None),\n",
       " AvailableCampsite(campsite_id=32821, booking_date=datetime.datetime(2024, 12, 13, 0, 0), booking_end_date=datetime.datetime(2024, 12, 14, 0, 0), booking_nights=1, campsite_site_name='Group Dailyuse (B) #D A', campsite_loop_name=None, campsite_type='DailyUse', campsite_occupancy=(0, 1), campsite_use_type='Day Use', availability_status='Available', recreation_area='Angel Island SP', recreation_area_id=614, facility_name='Ayala Cove Group Picnic Area', facility_id=405, booking_url='https://www.reservecalifornia.com/Web/Default.aspx#!park/614/405', location=CampsiteLocation(latitude=37.8659, longitude=-122.4353), permitted_equipment=None, campsite_attributes=None),\n",
       " AvailableCampsite(campsite_id=32824, booking_date=datetime.datetime(2024, 12, 21, 0, 0), booking_end_date=datetime.datetime(2024, 12, 22, 0, 0), booking_nights=1, campsite_site_name='Group Dailyuse (C) #HILL', campsite_loop_name=None, campsite_type='DailyUse', campsite_occupancy=(0, 1), campsite_use_type='Day Use', availability_status='Available', recreation_area='Angel Island SP', recreation_area_id=614, facility_name='Ayala Cove Group Picnic Area', facility_id=405, booking_url='https://www.reservecalifornia.com/Web/Default.aspx#!park/614/405', location=CampsiteLocation(latitude=37.8659, longitude=-122.4353), permitted_equipment=None, campsite_attributes=None),\n",
       " AvailableCampsite(campsite_id=32821, booking_date=datetime.datetime(2024, 12, 7, 0, 0), booking_end_date=datetime.datetime(2024, 12, 8, 0, 0), booking_nights=1, campsite_site_name='Group Dailyuse (B) #D A', campsite_loop_name=None, campsite_type='DailyUse', campsite_occupancy=(0, 1), campsite_use_type='Day Use', availability_status='Available', recreation_area='Angel Island SP', recreation_area_id=614, facility_name='Ayala Cove Group Picnic Area', facility_id=405, booking_url='https://www.reservecalifornia.com/Web/Default.aspx#!park/614/405', location=CampsiteLocation(latitude=37.8659, longitude=-122.4353), permitted_equipment=None, campsite_attributes=None),\n",
       " AvailableCampsite(campsite_id=53926, booking_date=datetime.datetime(2024, 12, 6, 0, 0), booking_end_date=datetime.datetime(2024, 12, 7, 0, 0), booking_nights=1, campsite_site_name='Group Tent Campsite #GTC', campsite_loop_name=None, campsite_type='Group Camping', campsite_occupancy=(0, 1), campsite_use_type='Tent Site', availability_status='Available', recreation_area='Angel Island SP', recreation_area_id=614, facility_name='North Garrison Group Camp', facility_id=2155, booking_url='https://www.reservecalifornia.com/Web/Default.aspx#!park/614/2155', location=CampsiteLocation(latitude=37.8625, longitude=-122.4343), permitted_equipment=None, campsite_attributes=None),\n",
       " AvailableCampsite(campsite_id=53926, booking_date=datetime.datetime(2024, 12, 21, 0, 0), booking_end_date=datetime.datetime(2024, 12, 22, 0, 0), booking_nights=1, campsite_site_name='Group Tent Campsite #GTC', campsite_loop_name=None, campsite_type='Group Camping', campsite_occupancy=(0, 1), campsite_use_type='Tent Site', availability_status='Available', recreation_area='Angel Island SP', recreation_area_id=614, facility_name='North Garrison Group Camp', facility_id=2155, booking_url='https://www.reservecalifornia.com/Web/Default.aspx#!park/614/2155', location=CampsiteLocation(latitude=37.8625, longitude=-122.4343), permitted_equipment=None, campsite_attributes=None),\n",
       " AvailableCampsite(campsite_id=32824, booking_date=datetime.datetime(2024, 12, 20, 0, 0), booking_end_date=datetime.datetime(2024, 12, 21, 0, 0), booking_nights=1, campsite_site_name='Group Dailyuse (C) #HILL', campsite_loop_name=None, campsite_type='DailyUse', campsite_occupancy=(0, 1), campsite_use_type='Day Use', availability_status='Available', recreation_area='Angel Island SP', recreation_area_id=614, facility_name='Ayala Cove Group Picnic Area', facility_id=405, booking_url='https://www.reservecalifornia.com/Web/Default.aspx#!park/614/405', location=CampsiteLocation(latitude=37.8659, longitude=-122.4353), permitted_equipment=None, campsite_attributes=None),\n",
       " AvailableCampsite(campsite_id=32823, booking_date=datetime.datetime(2024, 12, 13, 0, 0), booking_end_date=datetime.datetime(2024, 12, 14, 0, 0), booking_nights=1, campsite_site_name='Group Dailyuse (A) #PLAT', campsite_loop_name=None, campsite_type='DailyUse', campsite_occupancy=(0, 1), campsite_use_type='Day Use', availability_status='Available', recreation_area='Angel Island SP', recreation_area_id=614, facility_name='Ayala Cove Group Picnic Area', facility_id=405, booking_url='https://www.reservecalifornia.com/Web/Default.aspx#!park/614/405', location=CampsiteLocation(latitude=37.8659, longitude=-122.4353), permitted_equipment=None, campsite_attributes=None),\n",
       " AvailableCampsite(campsite_id=32821, booking_date=datetime.datetime(2024, 12, 6, 0, 0), booking_end_date=datetime.datetime(2024, 12, 7, 0, 0), booking_nights=1, campsite_site_name='Group Dailyuse (B) #D A', campsite_loop_name=None, campsite_type='DailyUse', campsite_occupancy=(0, 1), campsite_use_type='Day Use', availability_status='Available', recreation_area='Angel Island SP', recreation_area_id=614, facility_name='Ayala Cove Group Picnic Area', facility_id=405, booking_url='https://www.reservecalifornia.com/Web/Default.aspx#!park/614/405', location=CampsiteLocation(latitude=37.8659, longitude=-122.4353), permitted_equipment=None, campsite_attributes=None),\n",
       " AvailableCampsite(campsite_id=32823, booking_date=datetime.datetime(2024, 12, 6, 0, 0), booking_end_date=datetime.datetime(2024, 12, 7, 0, 0), booking_nights=1, campsite_site_name='Group Dailyuse (A) #PLAT', campsite_loop_name=None, campsite_type='DailyUse', campsite_occupancy=(0, 1), campsite_use_type='Day Use', availability_status='Available', recreation_area='Angel Island SP', recreation_area_id=614, facility_name='Ayala Cove Group Picnic Area', facility_id=405, booking_url='https://www.reservecalifornia.com/Web/Default.aspx#!park/614/405', location=CampsiteLocation(latitude=37.8659, longitude=-122.4353), permitted_equipment=None, campsite_attributes=None),\n",
       " AvailableCampsite(campsite_id=32821, booking_date=datetime.datetime(2024, 12, 14, 0, 0), booking_end_date=datetime.datetime(2024, 12, 15, 0, 0), booking_nights=1, campsite_site_name='Group Dailyuse (B) #D A', campsite_loop_name=None, campsite_type='DailyUse', campsite_occupancy=(0, 1), campsite_use_type='Day Use', availability_status='Available', recreation_area='Angel Island SP', recreation_area_id=614, facility_name='Ayala Cove Group Picnic Area', facility_id=405, booking_url='https://www.reservecalifornia.com/Web/Default.aspx#!park/614/405', location=CampsiteLocation(latitude=37.8659, longitude=-122.4353), permitted_equipment=None, campsite_attributes=None),\n",
       " AvailableCampsite(campsite_id=39604, booking_date=datetime.datetime(2024, 12, 7, 0, 0), booking_end_date=datetime.datetime(2024, 12, 8, 0, 0), booking_nights=1, campsite_site_name='Group Tent Campsite #KAYK', campsite_loop_name=None, campsite_type='Group Camping', campsite_occupancy=(0, 1), campsite_use_type='Tent Site', availability_status='Available', recreation_area='Angel Island SP', recreation_area_id=614, facility_name='West Garrison (sites 10 & Kayak)', facility_id=407, booking_url='https://www.reservecalifornia.com/Web/Default.aspx#!park/614/407', location=CampsiteLocation(latitude=37.8613, longitude=-122.4407), permitted_equipment=None, campsite_attributes=None),\n",
       " AvailableCampsite(campsite_id=32824, booking_date=datetime.datetime(2024, 12, 13, 0, 0), booking_end_date=datetime.datetime(2024, 12, 14, 0, 0), booking_nights=1, campsite_site_name='Group Dailyuse (C) #HILL', campsite_loop_name=None, campsite_type='DailyUse', campsite_occupancy=(0, 1), campsite_use_type='Day Use', availability_status='Available', recreation_area='Angel Island SP', recreation_area_id=614, facility_name='Ayala Cove Group Picnic Area', facility_id=405, booking_url='https://www.reservecalifornia.com/Web/Default.aspx#!park/614/405', location=CampsiteLocation(latitude=37.8659, longitude=-122.4353), permitted_equipment=None, campsite_attributes=None),\n",
       " AvailableCampsite(campsite_id=39604, booking_date=datetime.datetime(2024, 12, 20, 0, 0), booking_end_date=datetime.datetime(2024, 12, 21, 0, 0), booking_nights=1, campsite_site_name='Group Tent Campsite #KAYK', campsite_loop_name=None, campsite_type='Group Camping', campsite_occupancy=(0, 1), campsite_use_type='Tent Site', availability_status='Available', recreation_area='Angel Island SP', recreation_area_id=614, facility_name='West Garrison (sites 10 & Kayak)', facility_id=407, booking_url='https://www.reservecalifornia.com/Web/Default.aspx#!park/614/407', location=CampsiteLocation(latitude=37.8613, longitude=-122.4407), permitted_equipment=None, campsite_attributes=None),\n",
       " AvailableCampsite(campsite_id=32821, booking_date=datetime.datetime(2024, 12, 21, 0, 0), booking_end_date=datetime.datetime(2024, 12, 22, 0, 0), booking_nights=1, campsite_site_name='Group Dailyuse (B) #D A', campsite_loop_name=None, campsite_type='DailyUse', campsite_occupancy=(0, 1), campsite_use_type='Day Use', availability_status='Available', recreation_area='Angel Island SP', recreation_area_id=614, facility_name='Ayala Cove Group Picnic Area', facility_id=405, booking_url='https://www.reservecalifornia.com/Web/Default.aspx#!park/614/405', location=CampsiteLocation(latitude=37.8659, longitude=-122.4353), permitted_equipment=None, campsite_attributes=None),\n",
       " AvailableCampsite(campsite_id=39609, booking_date=datetime.datetime(2024, 12, 20, 0, 0), booking_end_date=datetime.datetime(2024, 12, 21, 0, 0), booking_nights=1, campsite_site_name='Campsite #8', campsite_loop_name=None, campsite_type='Camping', campsite_occupancy=(0, 1), campsite_use_type='Campsite', availability_status='Available', recreation_area='Angel Island SP', recreation_area_id=614, facility_name='Sunrise (sites 7-9)', facility_id=409, booking_url='https://www.reservecalifornia.com/Web/Default.aspx#!park/614/409', location=CampsiteLocation(latitude=37.861389, longitude=-122.425278), permitted_equipment=None, campsite_attributes=None),\n",
       " AvailableCampsite(campsite_id=39604, booking_date=datetime.datetime(2024, 12, 21, 0, 0), booking_end_date=datetime.datetime(2024, 12, 22, 0, 0), booking_nights=1, campsite_site_name='Group Tent Campsite #KAYK', campsite_loop_name=None, campsite_type='Group Camping', campsite_occupancy=(0, 1), campsite_use_type='Tent Site', availability_status='Available', recreation_area='Angel Island SP', recreation_area_id=614, facility_name='West Garrison (sites 10 & Kayak)', facility_id=407, booking_url='https://www.reservecalifornia.com/Web/Default.aspx#!park/614/407', location=CampsiteLocation(latitude=37.8613, longitude=-122.4407), permitted_equipment=None, campsite_attributes=None),\n",
       " AvailableCampsite(campsite_id=53855, booking_date=datetime.datetime(2024, 12, 13, 0, 0), booking_end_date=datetime.datetime(2024, 12, 14, 0, 0), booking_nights=1, campsite_site_name='Group Day Use #GG', campsite_loop_name=None, campsite_type='DailyUse', campsite_occupancy=(0, 1), campsite_use_type='Day Use', availability_status='Available', recreation_area='Angel Island SP', recreation_area_id=614, facility_name='East Group Garrison Picnic Area', facility_id=2149, booking_url='https://www.reservecalifornia.com/Web/Default.aspx#!park/614/2149', location=CampsiteLocation(latitude=37.8604, longitude=-122.4212), permitted_equipment=None, campsite_attributes=None),\n",
       " AvailableCampsite(campsite_id=32821, booking_date=datetime.datetime(2024, 12, 20, 0, 0), booking_end_date=datetime.datetime(2024, 12, 21, 0, 0), booking_nights=1, campsite_site_name='Group Dailyuse (B) #D A', campsite_loop_name=None, campsite_type='DailyUse', campsite_occupancy=(0, 1), campsite_use_type='Day Use', availability_status='Available', recreation_area='Angel Island SP', recreation_area_id=614, facility_name='Ayala Cove Group Picnic Area', facility_id=405, booking_url='https://www.reservecalifornia.com/Web/Default.aspx#!park/614/405', location=CampsiteLocation(latitude=37.8659, longitude=-122.4353), permitted_equipment=None, campsite_attributes=None),\n",
       " AvailableCampsite(campsite_id=32823, booking_date=datetime.datetime(2024, 12, 20, 0, 0), booking_end_date=datetime.datetime(2024, 12, 21, 0, 0), booking_nights=1, campsite_site_name='Group Dailyuse (A) #PLAT', campsite_loop_name=None, campsite_type='DailyUse', campsite_occupancy=(0, 1), campsite_use_type='Day Use', availability_status='Available', recreation_area='Angel Island SP', recreation_area_id=614, facility_name='Ayala Cove Group Picnic Area', facility_id=405, booking_url='https://www.reservecalifornia.com/Web/Default.aspx#!park/614/405', location=CampsiteLocation(latitude=37.8659, longitude=-122.4353), permitted_equipment=None, campsite_attributes=None),\n",
       " AvailableCampsite(campsite_id=53855, booking_date=datetime.datetime(2024, 12, 14, 0, 0), booking_end_date=datetime.datetime(2024, 12, 15, 0, 0), booking_nights=1, campsite_site_name='Group Day Use #GG', campsite_loop_name=None, campsite_type='DailyUse', campsite_occupancy=(0, 1), campsite_use_type='Day Use', availability_status='Available', recreation_area='Angel Island SP', recreation_area_id=614, facility_name='East Group Garrison Picnic Area', facility_id=2149, booking_url='https://www.reservecalifornia.com/Web/Default.aspx#!park/614/2149', location=CampsiteLocation(latitude=37.8604, longitude=-122.4212), permitted_equipment=None, campsite_attributes=None),\n",
       " AvailableCampsite(campsite_id=32822, booking_date=datetime.datetime(2024, 12, 6, 0, 0), booking_end_date=datetime.datetime(2024, 12, 7, 0, 0), booking_nights=1, campsite_site_name='Group Dailyuse (B) #D B', campsite_loop_name=None, campsite_type='DailyUse', campsite_occupancy=(0, 1), campsite_use_type='Day Use', availability_status='Available', recreation_area='Angel Island SP', recreation_area_id=614, facility_name='Ayala Cove Group Picnic Area', facility_id=405, booking_url='https://www.reservecalifornia.com/Web/Default.aspx#!park/614/405', location=CampsiteLocation(latitude=37.8659, longitude=-122.4353), permitted_equipment=None, campsite_attributes=None),\n",
       " AvailableCampsite(campsite_id=32824, booking_date=datetime.datetime(2024, 12, 14, 0, 0), booking_end_date=datetime.datetime(2024, 12, 15, 0, 0), booking_nights=1, campsite_site_name='Group Dailyuse (C) #HILL', campsite_loop_name=None, campsite_type='DailyUse', campsite_occupancy=(0, 1), campsite_use_type='Day Use', availability_status='Available', recreation_area='Angel Island SP', recreation_area_id=614, facility_name='Ayala Cove Group Picnic Area', facility_id=405, booking_url='https://www.reservecalifornia.com/Web/Default.aspx#!park/614/405', location=CampsiteLocation(latitude=37.8659, longitude=-122.4353), permitted_equipment=None, campsite_attributes=None),\n",
       " AvailableCampsite(campsite_id=39608, booking_date=datetime.datetime(2024, 12, 20, 0, 0), booking_end_date=datetime.datetime(2024, 12, 21, 0, 0), booking_nights=1, campsite_site_name='Campsite #7', campsite_loop_name=None, campsite_type='Camping', campsite_occupancy=(0, 1), campsite_use_type='Campsite', availability_status='Available', recreation_area='Angel Island SP', recreation_area_id=614, facility_name='Sunrise (sites 7-9)', facility_id=409, booking_url='https://www.reservecalifornia.com/Web/Default.aspx#!park/614/409', location=CampsiteLocation(latitude=37.861389, longitude=-122.425278), permitted_equipment=None, campsite_attributes=None),\n",
       " AvailableCampsite(campsite_id=53855, booking_date=datetime.datetime(2024, 12, 21, 0, 0), booking_end_date=datetime.datetime(2024, 12, 22, 0, 0), booking_nights=1, campsite_site_name='Group Day Use #GG', campsite_loop_name=None, campsite_type='DailyUse', campsite_occupancy=(0, 1), campsite_use_type='Day Use', availability_status='Available', recreation_area='Angel Island SP', recreation_area_id=614, facility_name='East Group Garrison Picnic Area', facility_id=2149, booking_url='https://www.reservecalifornia.com/Web/Default.aspx#!park/614/2149', location=CampsiteLocation(latitude=37.8604, longitude=-122.4212), permitted_equipment=None, campsite_attributes=None),\n",
       " AvailableCampsite(campsite_id=53926, booking_date=datetime.datetime(2024, 12, 20, 0, 0), booking_end_date=datetime.datetime(2024, 12, 21, 0, 0), booking_nights=1, campsite_site_name='Group Tent Campsite #GTC', campsite_loop_name=None, campsite_type='Group Camping', campsite_occupancy=(0, 1), campsite_use_type='Tent Site', availability_status='Available', recreation_area='Angel Island SP', recreation_area_id=614, facility_name='North Garrison Group Camp', facility_id=2155, booking_url='https://www.reservecalifornia.com/Web/Default.aspx#!park/614/2155', location=CampsiteLocation(latitude=37.8625, longitude=-122.4343), permitted_equipment=None, campsite_attributes=None),\n",
       " AvailableCampsite(campsite_id=53855, booking_date=datetime.datetime(2024, 12, 7, 0, 0), booking_end_date=datetime.datetime(2024, 12, 8, 0, 0), booking_nights=1, campsite_site_name='Group Day Use #GG', campsite_loop_name=None, campsite_type='DailyUse', campsite_occupancy=(0, 1), campsite_use_type='Day Use', availability_status='Available', recreation_area='Angel Island SP', recreation_area_id=614, facility_name='East Group Garrison Picnic Area', facility_id=2149, booking_url='https://www.reservecalifornia.com/Web/Default.aspx#!park/614/2149', location=CampsiteLocation(latitude=37.8604, longitude=-122.4212), permitted_equipment=None, campsite_attributes=None),\n",
       " AvailableCampsite(campsite_id=32822, booking_date=datetime.datetime(2024, 12, 21, 0, 0), booking_end_date=datetime.datetime(2024, 12, 22, 0, 0), booking_nights=1, campsite_site_name='Group Dailyuse (B) #D B', campsite_loop_name=None, campsite_type='DailyUse', campsite_occupancy=(0, 1), campsite_use_type='Day Use', availability_status='Available', recreation_area='Angel Island SP', recreation_area_id=614, facility_name='Ayala Cove Group Picnic Area', facility_id=405, booking_url='https://www.reservecalifornia.com/Web/Default.aspx#!park/614/405', location=CampsiteLocation(latitude=37.8659, longitude=-122.4353), permitted_equipment=None, campsite_attributes=None),\n",
       " AvailableCampsite(campsite_id=32823, booking_date=datetime.datetime(2024, 12, 21, 0, 0), booking_end_date=datetime.datetime(2024, 12, 22, 0, 0), booking_nights=1, campsite_site_name='Group Dailyuse (A) #PLAT', campsite_loop_name=None, campsite_type='DailyUse', campsite_occupancy=(0, 1), campsite_use_type='Day Use', availability_status='Available', recreation_area='Angel Island SP', recreation_area_id=614, facility_name='Ayala Cove Group Picnic Area', facility_id=405, booking_url='https://www.reservecalifornia.com/Web/Default.aspx#!park/614/405', location=CampsiteLocation(latitude=37.8659, longitude=-122.4353), permitted_equipment=None, campsite_attributes=None),\n",
       " AvailableCampsite(campsite_id=39605, booking_date=datetime.datetime(2024, 12, 6, 0, 0), booking_end_date=datetime.datetime(2024, 12, 7, 0, 0), booking_nights=1, campsite_site_name='Hike in Campsite #4', campsite_loop_name=None, campsite_type='Remote Camping', campsite_occupancy=(0, 1), campsite_use_type='Hike In', availability_status='Available', recreation_area='Angel Island SP', recreation_area_id=614, facility_name='Ridge (sites 4-6)', facility_id=408, booking_url='https://www.reservecalifornia.com/Web/Default.aspx#!park/614/408', location=CampsiteLocation(latitude=37.857, longitude=-122.4387), permitted_equipment=None, campsite_attributes=None),\n",
       " AvailableCampsite(campsite_id=39604, booking_date=datetime.datetime(2024, 12, 6, 0, 0), booking_end_date=datetime.datetime(2024, 12, 7, 0, 0), booking_nights=1, campsite_site_name='Group Tent Campsite #KAYK', campsite_loop_name=None, campsite_type='Group Camping', campsite_occupancy=(0, 1), campsite_use_type='Tent Site', availability_status='Available', recreation_area='Angel Island SP', recreation_area_id=614, facility_name='West Garrison (sites 10 & Kayak)', facility_id=407, booking_url='https://www.reservecalifornia.com/Web/Default.aspx#!park/614/407', location=CampsiteLocation(latitude=37.8613, longitude=-122.4407), permitted_equipment=None, campsite_attributes=None),\n",
       " AvailableCampsite(campsite_id=32822, booking_date=datetime.datetime(2024, 12, 20, 0, 0), booking_end_date=datetime.datetime(2024, 12, 21, 0, 0), booking_nights=1, campsite_site_name='Group Dailyuse (B) #D B', campsite_loop_name=None, campsite_type='DailyUse', campsite_occupancy=(0, 1), campsite_use_type='Day Use', availability_status='Available', recreation_area='Angel Island SP', recreation_area_id=614, facility_name='Ayala Cove Group Picnic Area', facility_id=405, booking_url='https://www.reservecalifornia.com/Web/Default.aspx#!park/614/405', location=CampsiteLocation(latitude=37.8659, longitude=-122.4353), permitted_equipment=None, campsite_attributes=None),\n",
       " AvailableCampsite(campsite_id=32822, booking_date=datetime.datetime(2024, 12, 7, 0, 0), booking_end_date=datetime.datetime(2024, 12, 8, 0, 0), booking_nights=1, campsite_site_name='Group Dailyuse (B) #D B', campsite_loop_name=None, campsite_type='DailyUse', campsite_occupancy=(0, 1), campsite_use_type='Day Use', availability_status='Available', recreation_area='Angel Island SP', recreation_area_id=614, facility_name='Ayala Cove Group Picnic Area', facility_id=405, booking_url='https://www.reservecalifornia.com/Web/Default.aspx#!park/614/405', location=CampsiteLocation(latitude=37.8659, longitude=-122.4353), permitted_equipment=None, campsite_attributes=None)]"
      ]
     },
     "execution_count": 73,
     "metadata": {},
     "output_type": "execute_result"
    }
   ],
   "source": [
    "matches"
   ]
  },
  {
   "cell_type": "code",
   "execution_count": null,
   "metadata": {},
   "outputs": [],
   "source": []
  }
 ],
 "metadata": {
  "kernelspec": {
   "display_name": "campalert",
   "language": "python",
   "name": "python3"
  },
  "language_info": {
   "codemirror_mode": {
    "name": "ipython",
    "version": 3
   },
   "file_extension": ".py",
   "mimetype": "text/x-python",
   "name": "python",
   "nbconvert_exporter": "python",
   "pygments_lexer": "ipython3",
   "version": "3.13.0"
  }
 },
 "nbformat": 4,
 "nbformat_minor": 2
}
