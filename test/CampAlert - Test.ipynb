{
 "cells": [
  {
   "cell_type": "code",
   "execution_count": 3,
   "id": "d1bdf0d4-5123-4486-b110-375f95f22524",
   "metadata": {},
   "outputs": [],
   "source": [
    "import pandas as pd\n"
   ]
  },
  {
   "cell_type": "code",
   "execution_count": 5,
   "id": "2d00906f",
   "metadata": {},
   "outputs": [
    {
     "data": {
      "text/html": [
       "<div>\n",
       "<style scoped>\n",
       "    .dataframe tbody tr th:only-of-type {\n",
       "        vertical-align: middle;\n",
       "    }\n",
       "\n",
       "    .dataframe tbody tr th {\n",
       "        vertical-align: top;\n",
       "    }\n",
       "\n",
       "    .dataframe thead th {\n",
       "        text-align: right;\n",
       "    }\n",
       "</style>\n",
       "<table border=\"1\" class=\"dataframe\">\n",
       "  <thead>\n",
       "    <tr style=\"text-align: right;\">\n",
       "      <th></th>\n",
       "      <th>Date of Query</th>\n",
       "      <th>Name</th>\n",
       "      <th>Rec Area</th>\n",
       "      <th>Weeks in Advance</th>\n",
       "      <th>Number of Nights</th>\n",
       "      <th>Weekends Only</th>\n",
       "      <th>Email</th>\n",
       "    </tr>\n",
       "  </thead>\n",
       "  <tbody>\n",
       "    <tr>\n",
       "      <th>0</th>\n",
       "      <td>11/30/2024</td>\n",
       "      <td>Chad Breece</td>\n",
       "      <td>Yosemite</td>\n",
       "      <td>3</td>\n",
       "      <td>1</td>\n",
       "      <td>0</td>\n",
       "      <td>cmebreece@gmail.com</td>\n",
       "    </tr>\n",
       "    <tr>\n",
       "      <th>1</th>\n",
       "      <td>11/30/2024</td>\n",
       "      <td>Chad Breece</td>\n",
       "      <td>Joshua Tree</td>\n",
       "      <td>3</td>\n",
       "      <td>1</td>\n",
       "      <td>0</td>\n",
       "      <td>cmebreece@gmail.com</td>\n",
       "    </tr>\n",
       "  </tbody>\n",
       "</table>\n",
       "</div>"
      ],
      "text/plain": [
       "  Date of Query         Name     Rec Area  Weeks in Advance  Number of Nights  \\\n",
       "0    11/30/2024  Chad Breece     Yosemite                 3                 1   \n",
       "1    11/30/2024  Chad Breece  Joshua Tree                 3                 1   \n",
       "\n",
       "   Weekends Only                Email  \n",
       "0              0  cmebreece@gmail.com  \n",
       "1              0  cmebreece@gmail.com  "
      ]
     },
     "execution_count": 5,
     "metadata": {},
     "output_type": "execute_result"
    }
   ],
   "source": [
    "user_df = pd.read_csv('../CampsiteInfo - Sheet1.csv')\n",
    "user_df.head()\n"
   ]
  },
  {
   "cell_type": "code",
   "execution_count": 6,
   "id": "af310cb5",
   "metadata": {},
   "outputs": [
    {
     "data": {
      "text/plain": [
       "array(['Chad Breece'], dtype=object)"
      ]
     },
     "execution_count": 6,
     "metadata": {},
     "output_type": "execute_result"
    }
   ],
   "source": [
    "uniq_users = user_df['Name'].unique()\n",
    "uniq_users\n"
   ]
  },
  {
   "cell_type": "code",
   "execution_count": 7,
   "id": "ba6b4305",
   "metadata": {},
   "outputs": [
    {
     "name": "stdout",
     "output_type": "stream",
     "text": [
      "Chad Breece ['Yosemite' 'Joshua Tree']\n"
     ]
    }
   ],
   "source": [
    "for user in uniq_users:\n",
    "    uniq_recs = user_df[user_df['Name'] == user]['Rec Area'].unique()\n",
    "print(user, uniq_recs)\n"
   ]
  },
  {
   "cell_type": "code",
   "execution_count": null,
   "id": "7c30fb3a",
   "metadata": {},
   "outputs": [],
   "source": [
    "api_key = '1ed26f91-3a03-4186-be94-b3069797144e'"
   ]
  },
  {
   "cell_type": "code",
   "execution_count": 8,
   "id": "767cd103",
   "metadata": {},
   "outputs": [
    {
     "data": {
      "text/plain": [
       "{'error': 'Unauthorized Access'}"
      ]
     },
     "execution_count": 8,
     "metadata": {},
     "output_type": "execute_result"
    }
   ],
   "source": [
    "import requests\n",
    "r = requests.get('https://ridb.recreation.gov/api/v1/recareas/2991?full=false')\n",
    "r.json()"
   ]
  },
  {
   "cell_type": "code",
   "execution_count": null,
   "id": "911bbecb",
   "metadata": {},
   "outputs": [],
   "source": []
  }
 ],
 "metadata": {
  "kernelspec": {
   "display_name": "Python 3 (ipykernel)",
   "language": "python",
   "name": "python3"
  },
  "language_info": {
   "codemirror_mode": {
    "name": "ipython",
    "version": 3
   },
   "file_extension": ".py",
   "mimetype": "text/x-python",
   "name": "python",
   "nbconvert_exporter": "python",
   "pygments_lexer": "ipython3",
   "version": "3.12.4"
  }
 },
 "nbformat": 4,
 "nbformat_minor": 5
}
