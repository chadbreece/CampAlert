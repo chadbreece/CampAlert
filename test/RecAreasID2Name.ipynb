{
 "cells": [
  {
   "cell_type": "code",
   "execution_count": null,
   "metadata": {},
   "outputs": [],
   "source": [
    "import requests\n",
    "from tqdm import tqdm\n",
    "import pandas as pd"
   ]
  },
  {
   "cell_type": "code",
   "execution_count": null,
   "metadata": {},
   "outputs": [],
   "source": [
    "def get_rec_area_name(rec_area_id):\n",
    "    api_key = '1ed26f91-3a03-4186-be94-b3069797144e'\n",
    "    query = f\"https://ridb.recreation.gov/api/v1/recareas/{rec_area_id}?full=false\"\n",
    "    headers = {\n",
    "        \"apikey\": api_key\n",
    "    }\n",
    "    response = requests.get(query, headers=headers)\n",
    "\n",
    "    try:\n",
    "        if response.status_code == 200:\n",
    "            data = response.json()\n",
    "            return data['RecAreaName']\n",
    "    except Exception as e:\n",
    "        return None"
   ]
  },
  {
   "cell_type": "code",
   "execution_count": null,
   "metadata": {},
   "outputs": [],
   "source": [
    "results_dict = {}\n",
    "for i in tqdm(range(5000)):\n",
    "    rec_area_name = get_rec_area_name(i)\n",
    "    if rec_area_name != '':\n",
    "        results_dict[i] = rec_area_name"
   ]
  },
  {
   "cell_type": "code",
   "execution_count": null,
   "metadata": {},
   "outputs": [],
   "source": [
    "results_df = pd.DataFrame(results_dict.items(), columns=['RecAreaID', 'RecAreaName'])\n",
    "results_df.to_csv('rec_area_names.csv', index=False)"
   ]
  }
 ],
 "metadata": {
  "kernelspec": {
   "display_name": "campalert",
   "language": "python",
   "name": "python3"
  },
  "language_info": {
   "name": "python",
   "version": "3.13.0"
  }
 },
 "nbformat": 4,
 "nbformat_minor": 2
}
