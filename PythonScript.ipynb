{
 "cells": [
  {
   "cell_type": "code",
   "execution_count": 11,
   "id": "4099beed-bd2e-4ec0-9703-1b9686da45d3",
   "metadata": {},
   "outputs": [],
   "source": [
    "import numpy as np\n",
    "import camply as cmp"
   ]
  },
  {
   "cell_type": "code",
   "execution_count": 38,
   "id": "fc91472e-3d5d-464b-ba82-52a2fd35ecbb",
   "metadata": {},
   "outputs": [
    {
     "name": "stderr",
     "output_type": "stream",
     "text": [
      "2024-11-30 16:15:45,514 [    INFO]: 7 booking nights selected for search, ranging from 2024-12-01 to 2024-12-07\n",
      "2024-11-30 16:15:45,517 [    INFO]: Retrieving Facility Information for Recreation Area ID: `2782`.\n",
      "2024-11-30 16:15:47,028 [    INFO]: 9 Matching Campgrounds Found\n",
      "2024-11-30 16:15:47,030 [    INFO]: ⛰  Joshua Tree National Park, CA (#2782) - 🏕  Black Rock Campground (#232473)\n",
      "2024-11-30 16:15:47,031 [    INFO]: ⛰  Joshua Tree National Park, CA (#2782) - 🏕  Black Rock Equestrian Campground (#234723)\n",
      "2024-11-30 16:15:47,031 [    INFO]: ⛰  Joshua Tree National Park, CA (#2782) - 🏕  Cottonwood Campground (Ca) (#272299)\n",
      "2024-11-30 16:15:47,032 [    INFO]: ⛰  Joshua Tree National Park, CA (#2782) - 🏕  Cottonwood Group (#232471)\n",
      "2024-11-30 16:15:47,033 [    INFO]: ⛰  Joshua Tree National Park, CA (#2782) - 🏕  Indian Cove Campground (#232472)\n",
      "2024-11-30 16:15:47,034 [    INFO]: ⛰  Joshua Tree National Park, CA (#2782) - 🏕  Indian Cove Group (#10053779)\n",
      "2024-11-30 16:15:47,035 [    INFO]: ⛰  Joshua Tree National Park, CA (#2782) - 🏕  Jumbo Rocks Campground (#272300)\n",
      "2024-11-30 16:15:47,036 [    INFO]: ⛰  Joshua Tree National Park, CA (#2782) - 🏕  Ryan Campground (#10056207)\n",
      "2024-11-30 16:15:47,037 [    INFO]: ⛰  Joshua Tree National Park, CA (#2782) - 🏕  Sheep Pass Group (#232470)\n",
      "2024-11-30 16:15:47,038 [    INFO]: Searching across 9 campgrounds\n",
      "2024-11-30 16:15:49,598 [    INFO]: Metadata fetched for 459 campsites\n",
      "2024-11-30 16:15:49,599 [    INFO]: Searching Indian Cove Campground, Joshua Tree National Park, CA (232472) for availability: December, 2024\n",
      "2024-11-30 16:16:28,710 [    INFO]: \t⛺️\t1113 total sites found in month of December\n",
      "2024-11-30 16:16:30,127 [    INFO]: Searching Ryan Campground, Joshua Tree National Park, CA (10056207) for availability: December, 2024\n",
      "2024-11-30 16:16:31,492 [    INFO]: \t⛺️\t121 total sites found in month of December\n",
      "2024-11-30 16:16:32,526 [    INFO]: Searching Indian Cove Group, Joshua Tree National Park, CA (10053779) for availability: December, 2024\n",
      "2024-11-30 16:16:32,689 [    INFO]: \t⛺️\t182 total sites found in month of December\n",
      "2024-11-30 16:16:33,790 [    INFO]: Searching Cottonwood Group, Joshua Tree National Park, CA (232471) for availability: December, 2024\n",
      "2024-11-30 16:16:34,050 [    INFO]: \t⛺️\t58 total sites found in month of December\n",
      "2024-11-30 16:16:35,083 [    INFO]: Searching Cottonwood Campground (Ca), Joshua Tree National Park, CA (272299) for availability: December, 2024\n",
      "2024-11-30 16:16:35,627 [    INFO]: \t⛺️\t990 total sites found in month of December\n",
      "2024-11-30 16:16:36,832 [    INFO]: Searching Sheep Pass Group, Joshua Tree National Park, CA (232470) for availability: December, 2024\n",
      "2024-11-30 16:16:37,047 [    INFO]: \t⛺️\t86 total sites found in month of December\n",
      "2024-11-30 16:16:38,382 [    INFO]: Searching Jumbo Rocks Campground, Joshua Tree National Park, CA (272300) for availability: December, 2024\n",
      "2024-11-30 16:16:39,066 [    INFO]: \t⛺️\t1046 total sites found in month of December\n",
      "2024-11-30 16:16:40,498 [    INFO]: Searching Black Rock Campground, Joshua Tree National Park, CA (232473) for availability: December, 2024\n",
      "2024-11-30 16:16:41,568 [    INFO]: \t⛺️\t1618 total sites found in month of December\n",
      "2024-11-30 16:16:42,661 [    INFO]: Searching Black Rock Equestrian Campground, Joshua Tree National Park, CA (234723) for availability: December, 2024\n",
      "2024-11-30 16:16:42,864 [    INFO]: \t⛺️\t31 total sites found in month of December\n",
      "2024-11-30 16:16:50,571 [    INFO]: ⛺️ ⛺️ ⛺️ ⛺️ 1301 Reservable Campsites Matching Search Preferences\n",
      "IOPub data rate exceeded.\n",
      "The Jupyter server will temporarily stop sending output\n",
      "to the client in order to avoid crashing it.\n",
      "To change this limit, set the config variable\n",
      "`--ServerApp.iopub_data_rate_limit`.\n",
      "\n",
      "Current values:\n",
      "ServerApp.iopub_data_rate_limit=1000000.0 (bytes/sec)\n",
      "ServerApp.rate_limit_window=3.0 (secs)\n",
      "\n"
     ]
    }
   ],
   "source": [
    "from datetime import datetime\n",
    "import logging\n",
    "from typing import List\n",
    "\n",
    "from camply.containers import AvailableCampsite, SearchWindow\n",
    "from camply.search import SearchRecreationDotGov\n",
    "\n",
    "logging.basicConfig(format=\"%(asctime)s [%(levelname)8s]: %(message)s\",\n",
    "                    level=logging.INFO)\n",
    "\n",
    "month_of_december = SearchWindow(start_date=datetime(year=2024, month=12, day=1),\n",
    "                             end_date=datetime(year=2024, month=12, day=8))\n",
    "\n",
    "camping_finder = SearchRecreationDotGov(search_window=month_of_december,\n",
    "                                        recreation_area=2782,  # Glacier Ntl Park\n",
    "                                        weekends_only=False,\n",
    "                                        nights=1)\n",
    "matches: List[AvailableCampsite] = camping_finder.get_matching_campsites(log=False, verbose=False,\n",
    "                                                                         continuous=False)\n",
    "\n",
    "print(matches)\n",
    "\n"
   ]
  },
  {
   "cell_type": "code",
   "execution_count": null,
   "id": "cbf30462-5bd7-4f08-9652-43018eb214bb",
   "metadata": {},
   "outputs": [],
   "source": [
    "AvailableCampsite(campsite_id=\"5391\",\n",
    "                  booking_date=datetime.datetime(2024, 11, 30, 0, 0),\n",
    "                  campsite_site_name=\"B37\",\n",
    "                  campsite_loop_name=\"Loop B\",\n",
    "                  campsite_type=\"STANDARD NONELECTRIC\",\n",
    "                  campsite_occupancy=(0, 8),\n",
    "                  campsite_use_type=\"Overnight\",\n",
    "                  availability_status=\"Available\",\n",
    "                  recreation_area=\"Glacier National Park, MT\",\n",
    "                  recreation_area_id=\"2725\",\n",
    "                  facility_name=\"Fish Creek Campground\",\n",
    "                  facility_id=\"232493\",\n",
    "                  booking_url=\"https://www.recreation.gov/camping/campsites/5391\")"
   ]
  },
  {
   "cell_type": "code",
   "execution_count": null,
   "id": "83a7bb8b-5148-42b3-9eeb-75078e44c64f",
   "metadata": {},
   "outputs": [],
   "source": []
  }
 ],
 "metadata": {
  "kernelspec": {
   "display_name": "Camp Kernel",
   "language": "python",
   "name": "mykernel"
  },
  "language_info": {
   "codemirror_mode": {
    "name": "ipython",
    "version": 3
   },
   "file_extension": ".py",
   "mimetype": "text/x-python",
   "name": "python",
   "nbconvert_exporter": "python",
   "pygments_lexer": "ipython3",
   "version": "3.12.4"
  }
 },
 "nbformat": 4,
 "nbformat_minor": 5
}
